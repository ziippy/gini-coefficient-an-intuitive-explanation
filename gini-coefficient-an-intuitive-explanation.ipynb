{
 "cells": [
  {
   "cell_type": "code",
   "execution_count": 1,
   "metadata": {},
   "outputs": [],
   "source": [
    "import numpy as np"
   ]
  },
  {
   "cell_type": "code",
   "execution_count": 2,
   "metadata": {},
   "outputs": [],
   "source": [
    "# Prediction\n",
    "predictions = [0.9, 0.3, 0.8, 0.75, 0.65, 0.6, 0.78, 0.7, 0.05, 0.4, 0.4, 0.05, 0.5, 0.1, 0.1]\n",
    "# Actual\n",
    "actual = [1, 1, 1, 1, 1, 1, 0, 0, 0, 0, 0, 0, 0, 0, 0]"
   ]
  },
  {
   "cell_type": "code",
   "execution_count": 3,
   "metadata": {},
   "outputs": [],
   "source": [
    "def gini(actual, pred):\n",
    "    assert(len(actual) == len(pred))\n",
    "    all = np.asarray(np.c_[actual, pred, np.arange(len(actual))], dtype=np.float)\n",
    "    all = all[np.lexsort((all[:, 2], -1*all[:, 1]))]\n",
    "    totalLosses = all[:, 0].sum()\n",
    "    giniSum = all[:, 0].cumsum().sum() / totalLosses\n",
    "    \n",
    "    giniSum -= (len(actual) + 1) / 2.\n",
    "    return giniSum / len(actual)\n",
    "\n",
    "def gini_normalized(actual, pred):\n",
    "    return gini(actual, pred) / gini(actual, actual)"
   ]
  },
  {
   "cell_type": "code",
   "execution_count": 5,
   "metadata": {},
   "outputs": [
    {
     "name": "stdout",
     "output_type": "stream",
     "text": [
      "Gini: 0.189, Max. Gini: 0.300, Normalized Gini: 0.630\n"
     ]
    }
   ],
   "source": [
    "gini_predictions = gini(actual, predictions)\n",
    "gini_max = gini(actual, actual)\n",
    "ngini = gini_normalized(actual, predictions)\n",
    "\n",
    "print(\"Gini: %.3f, Max. Gini: %.3f, Normalized Gini: %.3f\" % (gini_predictions, gini_max, ngini))"
   ]
  },
  {
   "cell_type": "code",
   "execution_count": 6,
   "metadata": {},
   "outputs": [
    {
     "name": "stdout",
     "output_type": "stream",
     "text": [
      "Sorted Actual Values [0, 0, 0, 0, 1, 0, 0, 0, 1, 1, 0, 1, 0, 1, 1]\n"
     ]
    }
   ],
   "source": [
    "data = zip(actual, predictions)\n",
    "sorted_data = sorted(data, key=lambda d: d[1])\n",
    "sorted_actual = [d[0] for d in sorted_data]\n",
    "print(\"Sorted Actual Values\", sorted_actual)"
   ]
  },
  {
   "cell_type": "code",
   "execution_count": 7,
   "metadata": {},
   "outputs": [],
   "source": [
    "from matplotlib import pyplot as plt"
   ]
  },
  {
   "cell_type": "code",
   "execution_count": 27,
   "metadata": {},
   "outputs": [
    {
     "name": "stdout",
     "output_type": "stream",
     "text": [
      "Cumsum of Sorted Actual Values [0 0 0 0 1 1 1 1 2 3 3 4 4 5 6]\n"
     ]
    }
   ],
   "source": [
    "cumsum_sorted_actual = np.cumsum(sorted_actual)\n",
    "cumsum_sorted_index = np.arange(1, len(cumsum_sorted_actual)+1)\n",
    "print(\"Cumsum of Sorted Actual Values\", cumsum_sorted_actual)"
   ]
  },
  {
   "cell_type": "code",
   "execution_count": 28,
   "metadata": {},
   "outputs": [
    {
     "data": {
      "text/plain": [
       "[<matplotlib.lines.Line2D at 0x7f564b0b92e8>]"
      ]
     },
     "execution_count": 28,
     "metadata": {},
     "output_type": "execute_result"
    },
    {
     "data": {
      "image/png": "[encoded data removed]",
      "text/plain": [
       "<Figure size 432x288 with 1 Axes>"
      ]
     },
     "metadata": {},
     "output_type": "display_data"
    }
   ],
   "source": [
    "plt.plot(cumsum_sorted_index, cumsum_sorted_actual)"
   ]
  },
  {
   "cell_type": "code",
   "execution_count": 38,
   "metadata": {},
   "outputs": [
    {
     "name": "stdout",
     "output_type": "stream",
     "text": [
      "Normalized Cumsum of Sorted Actual Values [ 0.          0.          0.          0.          0.16666667  0.16666667\n",
      "  0.16666667  0.16666667  0.33333333  0.5         0.5         0.66666667\n",
      "  0.66666667  0.83333333  1.        ]\n",
      "Normalized Cumsum of Sorted Index Values [ 0.06666667  0.13333333  0.2         0.26666667  0.33333333  0.4\n",
      "  0.46666667  0.53333333  0.6         0.66666667  0.73333333  0.8\n",
      "  0.86666667  0.93333333  1.        ]\n"
     ]
    },
    {
     "data": {
      "text/plain": [
       "[<matplotlib.lines.Line2D at 0x7f564b033f28>]"
      ]
     },
     "execution_count": 38,
     "metadata": {},
     "output_type": "execute_result"
    },
    {
     "data": {
      "image/png": "[encoded data removed]",
      "text/plain": [
       "<Figure size 432x288 with 1 Axes>"
      ]
     },
     "metadata": {},
     "output_type": "display_data"
    }
   ],
   "source": [
    "n_cumsum_sorted_actual = cumsum_sorted_actual / np.max(cumsum_sorted_actual)\n",
    "n_cumsum_sorted_index = cumsum_sorted_index / len(cumsum_sorted_index)\n",
    "print(\"Normalized Cumsum of Sorted Actual Values\", n_cumsum_sorted_actual)\n",
    "print(\"Normalized Cumsum of Sorted Index Values\", n_cumsum_sorted_index)\n",
    "plt.plot(n_cumsum_sorted_index, n_cumsum_sorted_actual)"
   ]
  },
  {
   "cell_type": "code",
   "execution_count": 39,
   "metadata": {},
   "outputs": [
    {
     "name": "stdout",
     "output_type": "stream",
     "text": [
      "Normalized Cumsum of Sorted Actual Values [0, 0.0, 0.0, 0.0, 0.0, 0.16666666666666666, 0.16666666666666666, 0.16666666666666666, 0.16666666666666666, 0.33333333333333331, 0.5, 0.5, 0.66666666666666663, 0.66666666666666663, 0.83333333333333337, 1.0]\n",
      "Normalized Cumsum of Sorted Index Values [0, 0.066666666666666666, 0.13333333333333333, 0.20000000000000001, 0.26666666666666666, 0.33333333333333331, 0.40000000000000002, 0.46666666666666667, 0.53333333333333333, 0.59999999999999998, 0.66666666666666663, 0.73333333333333328, 0.80000000000000004, 0.8666666666666667, 0.93333333333333335, 1.0]\n"
     ]
    },
    {
     "data": {
      "text/plain": [
       "[<matplotlib.lines.Line2D at 0x7f564b1ea550>]"
      ]
     },
     "execution_count": 39,
     "metadata": {},
     "output_type": "execute_result"
    },
    {
     "data": {
      "image/png": "[encoded data removed]",
      "text/plain": [
       "<Figure size 432x288 with 1 Axes>"
      ]
     },
     "metadata": {},
     "output_type": "display_data"
    }
   ],
   "source": [
    "n_cumsum_sorted_actual = [0] + list(n_cumsum_sorted_actual)\n",
    "n_cumsum_sorted_index = [0] + list(n_cumsum_sorted_index)\n",
    "print(\"Normalized Cumsum of Sorted Actual Values\", n_cumsum_sorted_actual)\n",
    "print(\"Normalized Cumsum of Sorted Index Values\", n_cumsum_sorted_index)\n",
    "plt.plot(n_cumsum_sorted_index, n_cumsum_sorted_actual)"
   ]
  },
  {
   "cell_type": "code",
   "execution_count": 42,
   "metadata": {},
   "outputs": [
    {
     "data": {
      "text/plain": [
       "Text(0, 0.5, 'Cumulative Share of Actual Values')"
      ]
     },
     "execution_count": 42,
     "metadata": {},
     "output_type": "execute_result"
    },
    {
     "data": {
      "image/png": "[encoded data removed]",
      "text/plain": [
       "<Figure size 432x288 with 1 Axes>"
      ]
     },
     "metadata": {},
     "output_type": "display_data"
    }
   ],
   "source": [
    "# Display the 45° line stacked on top of the y values\n",
    "diagonal = [x - y for (x, y) in zip(n_cumsum_sorted_index, n_cumsum_sorted_actual)]\n",
    "\n",
    "plt.stackplot(n_cumsum_sorted_index, n_cumsum_sorted_actual, diagonal)\n",
    "plt.xlabel('Cumulative Share of Predictions')\n",
    "plt.ylabel('Cumulative Share of Actual Values')"
   ]
  },
  {
   "cell_type": "code",
   "execution_count": 52,
   "metadata": {},
   "outputs": [
    {
     "name": "stdout",
     "output_type": "stream",
     "text": [
      "Actual Orange Area: 0.189\n"
     ]
    }
   ],
   "source": [
    "from scipy import interpolate\n",
    "fy = scipy.interpolate.interp1d(n_cumsum_sorted_index, n_cumsum_sorted_actual)\n",
    "blue_area, _ = scipy.integrate.quad(fy, 0, 1, points=n_cumsum_sorted_index)\n",
    "actual_orange_area = 0.5 - blue_area\n",
    "print('Actual Orange Area: %.3f' % actual_orange_area)"
   ]
  },
  {
   "cell_type": "code",
   "execution_count": 47,
   "metadata": {},
   "outputs": [
    {
     "name": "stdout",
     "output_type": "stream",
     "text": [
      "Normalized Cumsum of Sorted Perfect Values [0, 0.0, 0.0, 0.0, 0.0, 0.0, 0.0, 0.0, 0.0, 0.0, 0.16666666666666666, 0.33333333333333331, 0.5, 0.66666666666666663, 0.83333333333333337, 1.0]\n"
     ]
    },
    {
     "data": {
      "text/plain": [
       "[<matplotlib.lines.Line2D at 0x7f564349d0f0>]"
      ]
     },
     "execution_count": 47,
     "metadata": {},
     "output_type": "execute_result"
    },
    {
     "data": {
      "image/png": "[encoded data removed]",
      "text/plain": [
       "<Figure size 432x288 with 1 Axes>"
      ]
     },
     "metadata": {},
     "output_type": "display_data"
    }
   ],
   "source": [
    "cumsum_sorted_perfect = np.cumsum(sorted(sorted_actual)) / sum(sorted_actual)\n",
    "n_cumsum_sorted_perfect = cumsum_sorted_perfect / np.max(cumsum_sorted_perfect)\n",
    "n_cumsum_sorted_perfect = [0] + list(n_cumsum_sorted_perfect)\n",
    "print(\"Normalized Cumsum of Sorted Perfect Values\", n_cumsum_sorted_perfect)\n",
    "plt.plot(n_cumsum_sorted_index, n_cumsum_sorted_perfect)"
   ]
  },
  {
   "cell_type": "code",
   "execution_count": 48,
   "metadata": {},
   "outputs": [
    {
     "data": {
      "text/plain": [
       "Text(0, 0.5, 'Cumulative Share of Perfect Values')"
      ]
     },
     "execution_count": 48,
     "metadata": {},
     "output_type": "execute_result"
    },
    {
     "data": {
      "image/png": "[encoded data removed]",
      "text/plain": [
       "<Figure size 432x288 with 1 Axes>"
      ]
     },
     "metadata": {},
     "output_type": "display_data"
    }
   ],
   "source": [
    "# Display the 45° line stacked on top of the y values\n",
    "diagonal = [x - y for (x, y) in zip(n_cumsum_sorted_index, n_cumsum_sorted_perfect)]\n",
    "\n",
    "plt.stackplot(n_cumsum_sorted_index, n_cumsum_sorted_perfect, diagonal)\n",
    "plt.xlabel('Cumulative Share of Predictions')\n",
    "plt.ylabel('Cumulative Share of Perfect Values')"
   ]
  },
  {
   "cell_type": "code",
   "execution_count": 51,
   "metadata": {},
   "outputs": [
    {
     "name": "stdout",
     "output_type": "stream",
     "text": [
      "Perfect Orange Area: 0.300\n"
     ]
    }
   ],
   "source": [
    "from scipy import interpolate\n",
    "fy = scipy.interpolate.interp1d(n_cumsum_sorted_index, n_cumsum_sorted_perfect)\n",
    "blue_area, _ = scipy.integrate.quad(fy, 0, 1, points=n_cumsum_sorted_index)\n",
    "perfect_orange_area = 0.5 - blue_area\n",
    "print('Perfect Orange Area: %.3f' % perfect_orange_area)"
   ]
  },
  {
   "cell_type": "code",
   "execution_count": 54,
   "metadata": {},
   "outputs": [
    {
     "name": "stdout",
     "output_type": "stream",
     "text": [
      "Normalized Gini 0.630\n"
     ]
    }
   ],
   "source": [
    "NGini = actual_orange_area / perfect_orange_area\n",
    "print(\"Normalized Gini %.3f\" % NGini)"
   ]
  }
 ],
 "metadata": {
  "kernelspec": {
   "display_name": "venv",
   "language": "python",
   "name": "venv"
  },
  "language_info": {
   "codemirror_mode": {
    "name": "ipython",
    "version": 3
   },
   "file_extension": ".py",
   "mimetype": "text/x-python",
   "name": "python",
   "nbconvert_exporter": "python",
   "pygments_lexer": "ipython3",
   "version": "3.5.2"
  }
 },
 "nbformat": 4,
 "nbformat_minor": 2
}
